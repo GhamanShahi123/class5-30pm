{
 "cells": [
  {
   "cell_type": "code",
   "execution_count": 1,
   "id": "44736f7a",
   "metadata": {},
   "outputs": [],
   "source": [
    "# file\n",
    "# file=open('<file-name>','<mode>')\n",
    "# file.close()\n",
    "# with open('<file-name>','mode')as file:\n",
    "#     <operation>"
   ]
  },
  {
   "cell_type": "code",
   "execution_count": 2,
   "id": "1c12360f",
   "metadata": {},
   "outputs": [],
   "source": [
    "# mode\n",
    "\n",
    "\n",
    "# read->r\n",
    "# write->w\n",
    "# append->a\n",
    "# create->x"
   ]
  },
  {
   "cell_type": "code",
   "execution_count": 3,
   "id": "9661780b",
   "metadata": {},
   "outputs": [],
   "source": [
    "file=open('data.txt','x')\n",
    "file.close()"
   ]
  },
  {
   "cell_type": "code",
   "execution_count": 4,
   "id": "fc98067d",
   "metadata": {},
   "outputs": [
    {
     "name": "stdout",
     "output_type": "stream",
     "text": [
      "the file is already there\n"
     ]
    }
   ],
   "source": [
    "try:\n",
    "    file=open('data.txt','x')\n",
    "    file.close()\n",
    "except:\n",
    "    print('the file is already there')"
   ]
  },
  {
   "cell_type": "code",
   "execution_count": 5,
   "id": "80626204",
   "metadata": {},
   "outputs": [
    {
     "name": "stdout",
     "output_type": "stream",
     "text": [
      "Hello World\n",
      "Hello World\n",
      "Hello World\n",
      "Hello World\n",
      "Hello World\n"
     ]
    }
   ],
   "source": [
    "file=open('data.txt','r')\n",
    "x=file.read()\n",
    "print(x)\n",
    "file.close()"
   ]
  },
  {
   "cell_type": "code",
   "execution_count": 7,
   "id": "5d6e8b14",
   "metadata": {},
   "outputs": [
    {
     "data": {
      "text/plain": [
       "['Hello World', 'Hello World', 'Hello World', 'Hello World', 'Hello World']"
      ]
     },
     "execution_count": 7,
     "metadata": {},
     "output_type": "execute_result"
    }
   ],
   "source": [
    "y = x.split('\\n')\n",
    "y"
   ]
  },
  {
   "cell_type": "code",
   "execution_count": 8,
   "id": "903abf8b",
   "metadata": {},
   "outputs": [
    {
     "data": {
      "text/plain": [
       "'Hello World'"
      ]
     },
     "execution_count": 8,
     "metadata": {},
     "output_type": "execute_result"
    }
   ],
   "source": [
    "y[1]"
   ]
  },
  {
   "cell_type": "code",
   "execution_count": 11,
   "id": "c4d78fc9",
   "metadata": {},
   "outputs": [],
   "source": [
    "# write a,w\n",
    "file =open('data1.txt','w')\n",
    "file.write('hello world I am python.')\n",
    "file.close()"
   ]
  },
  {
   "cell_type": "code",
   "execution_count": null,
   "id": "b12d13ec",
   "metadata": {},
   "outputs": [],
   "source": []
  },
  {
   "cell_type": "markdown",
   "id": "020127e7",
   "metadata": {},
   "source": [
    "\n",
    "n=int(input(\"Enter n=\"))\n",
    "for i in range(n):\n",
    "    name=input(\"Enter name=\")\n",
    "    price=int(input(\"Enter price=\"))\n",
    "    quantity=int(input(\"Enter quantity=\"))\n",
    "    Total=price*quantity\n",
    "    info= f\"{name}, {price} ,{quantity}, {Total} \\n\"\n",
    "    s=s+info\n",
    "   \n",
    "          \n",
    "print(s)\n",
    "file =open('data1.csv','w')\n",
    "file.write(s)\n",
    "file.close()\n",
    " "
   ]
  },
  {
   "cell_type": "code",
   "execution_count": 13,
   "id": "fd1ae02f",
   "metadata": {},
   "outputs": [
    {
     "data": {
      "text/plain": [
       "'C:\\\\Users\\\\DEll\\\\python class file'"
      ]
     },
     "execution_count": 13,
     "metadata": {},
     "output_type": "execute_result"
    }
   ],
   "source": [
    "\n"
   ]
  },
  {
   "cell_type": "code",
   "execution_count": 7,
   "id": "75f45956",
   "metadata": {},
   "outputs": [
    {
     "name": "stdout",
     "output_type": "stream",
     "text": [
      "Enter n=2\n",
      "Enter name=ram\n",
      "Enter price=200\n",
      "Enter quantity=3\n",
      "Enter name=hari\n",
      "Enter price=300\n",
      "Enter quantity=4\n",
      "ram,200,3,600 \n",
      "hari,300,4,1200 \n",
      "\n"
     ]
    }
   ],
   "source": [
    "s=str()\n",
    "n=int(input(\"Enter n=\"))\n",
    "for i in range(n):\n",
    "    name=input(\"Enter name=\") \n",
    "    price=int(input(\"Enter price=\")) \n",
    "    quantity=int(input(\"Enter quantity=\")) \n",
    "    Total=price*quantity \n",
    "    info= f\"{name},{price},{quantity},{Total} \\n\" \n",
    "    s=s+info\n",
    "\n",
    "print(s)\n",
    "file =open('data1.csv','w') \n",
    "file.write('name,price,quqntity,total\\n') \n",
    "file.write(s)\n",
    "file.close()\n"
   ]
  },
  {
   "cell_type": "code",
   "execution_count": 9,
   "id": "541a9e13",
   "metadata": {},
   "outputs": [],
   "source": [
    "file =open('data1.csv','a') \n",
    "file.write(\"momo,100,2,200\\n\") \n",
    "file.close()"
   ]
  },
  {
   "cell_type": "code",
   "execution_count": 3,
   "id": "f4ddff69",
   "metadata": {},
   "outputs": [
    {
     "name": "stdout",
     "output_type": "stream",
     "text": [
      "Enter n=2\n",
      "Enter name=momo\n",
      "Enter price=300\n",
      "Enter quantity=2\n",
      "Enter name=coke\n",
      "Enter price=400\n",
      "Enter quantity=3\n"
     ]
    }
   ],
   "source": [
    "file =open('data2.csv','a')\n",
    "file.write('name,price,quqntity,total\\n')\n",
    "\n",
    "n=int(input(\"Enter n=\"))\n",
    "for i in range(n):\n",
    "    name=input(\"Enter name=\") \n",
    "    price=int(input(\"Enter price=\")) \n",
    "    quantity=int(input(\"Enter quantity=\")) \n",
    "    Total=price*quantity \n",
    "    info= f\"{name},{price},{quantity},{Total} \\n\" \n",
    "   \n",
    "    file.write(info)\n",
    "\n",
    "\n",
    "\n",
    "file.close()"
   ]
  },
  {
   "cell_type": "code",
   "execution_count": null,
   "id": "6264332f",
   "metadata": {},
   "outputs": [],
   "source": []
  }
 ],
 "metadata": {
  "kernelspec": {
   "display_name": "Python 3 (ipykernel)",
   "language": "python",
   "name": "python3"
  },
  "language_info": {
   "codemirror_mode": {
    "name": "ipython",
    "version": 3
   },
   "file_extension": ".py",
   "mimetype": "text/x-python",
   "name": "python",
   "nbconvert_exporter": "python",
   "pygments_lexer": "ipython3",
   "version": "3.9.12"
  }
 },
 "nbformat": 4,
 "nbformat_minor": 5
}
